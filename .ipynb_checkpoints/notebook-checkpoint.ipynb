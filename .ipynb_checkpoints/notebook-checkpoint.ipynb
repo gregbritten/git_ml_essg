{
 "cells": [
  {
   "cell_type": "markdown",
   "metadata": {},
   "source": [
    "To install Stan on your system, see this [link](https://mc-stan.org/users/interfaces/)\n",
    "\n",
    "You can run Stan from R, Python, command-line, MATLAB, Julia, Stata, Mathematica, Scala. "
   ]
  },
  {
   "cell_type": "code",
   "execution_count": 2,
   "metadata": {},
   "outputs": [],
   "source": [
    "library(rstan)                              #install package\n",
    "options(mc.cores = parallel::detectCores()) #tell Stan to use multiple cores\n",
    "library(viridis)                            #package for nice colors"
   ]
  },
  {
   "cell_type": "markdown",
   "metadata": {},
   "source": [
    "Simulate some data from a hierarchical graphical regression model\n",
    "\n",
    "Parameters for the simulation:"
   ]
  },
  {
   "cell_type": "code",
   "execution_count": 5,
   "metadata": {},
   "outputs": [],
   "source": [
    "P  <- 12                              #number of groups\n",
    "p  <- 10                              #number of individuals within group\n",
    "n  <- sample(30:100,p*P,replace=TRUE) #data points per location\n",
    "pi <- c(0,cumsum(n))                  #vector index for dataset stacked as single column\n",
    "Pi <- pi[seq(1,length(pi),p)]         #extract every pth index to separate groups\n",
    "N  <- sum(n)                          #total number of data points\n",
    "y  <- numeric(N)                      #space for y vector\n",
    "x  <- numeric(N)                      #space for x vector\n",
    "\n",
    "beta1_u    <- 0.2  #universal slope\n",
    "beta0_u    <- 1.0  #universal intercept\n",
    "beta1_g_sd <- 2.5  #standard deviation of group node slopes\n",
    "beta0_g_sd <- 2.0  #standard deviation of group node intercepts\n",
    "\n",
    "##--Sample group level parameters, conditional on universals--############\n",
    "beta1_g    <- rnorm(P,mean=beta1_u,sd=beta1_g_sd) \n",
    "beta0_g    <- rnorm(P,mean=beta0_u,sd=beta0_g_sd)\n",
    "\n",
    "beta1_i_sd <- 0.5  #standard deviation of individual slopes within groups\n",
    "beta0_i_sd <- 0.2  #standard deviation of individual intercepts within groups\n",
    "\n",
    "##--Sample individual parameters, conditional on group--################\n",
    "beta1_i    <- rnorm(p*P,mean=rep(beta1_g,each=p),sd=beta1_i_sd)\n",
    "beta0_i    <- rnorm(p*P,mean=rep(beta0_g,each=p),sd=beta0_i_sd)\n",
    "\n",
    "sigma_y    <- 0.25 #standard deviation for the measurement error\n",
    "sigma_x    <- 0.2  #standard deviation for independent variable"
   ]
  },
  {
   "cell_type": "markdown",
   "metadata": {},
   "source": [
    "Loop over groups and individuals, simulate data, and append to two growing vectors `x` and `y`"
   ]
  },
  {
   "cell_type": "code",
   "execution_count": 6,
   "metadata": {},
   "outputs": [],
   "source": [
    "k <- 1 #counter for p*P\n",
    "\n",
    "for(i in 1:P){                           #loop over groups\n",
    "\tfor(j in 1:p){                       #loop over individuals\n",
    "\t\txtmp <- rnorm(n[k],sd=sigma_x)   #generate random 'x' data\n",
    "\t\ty[(pi[k]+1):pi[k+1]] <- beta0_i[k] + beta1_i[k]*xtmp + rnorm(n[k],sd=sigma_y)  #move through each pi[k]+1 to pi[k+1] segment and concatenate data \n",
    "\t\tx[(pi[k]+1):pi[k+1]] <- xtmp                                                   \n",
    "\t\tk <- k + 1\n",
    "\t}\n",
    "}"
   ]
  },
  {
   "cell_type": "markdown",
   "metadata": {},
   "source": [
    "Make a plot"
   ]
  },
  {
   "cell_type": "code",
   "execution_count": null,
   "metadata": {},
   "outputs": [],
   "source": [
    "options(repr.plot.width=6, repr.plot.height=6)\n",
    "\n",
    "cols <- viridis(p*P)\n",
    "\n",
    "par(mfrow=c(1,1)) \n",
    "k <- 1\n",
    "plot(-999,xlim=range(x),ylim=range(y),ylab='y',xlab='x')  #open empty plot\n",
    "for(i in 1:P){\n",
    "\tfor(j in 1:p){\n",
    "\t\tpoints(x[(pi[k]+1):pi[k+1]], y[(pi[k]+1):pi[k+1]],col=adjustcolor(cols[k],alpha.f=0.4),pch=19)\n",
    "\t\tabline(lm(y[(pi[k]+1):pi[k+1]] ~ x[(pi[k]+1):pi[k+1]]),col=adjustcolor(cols[k],alpha.f=0.4))\n",
    "\t    k <- k + 1\t\n",
    "\t}\n",
    "}\n"
   ]
  },
  {
   "cell_type": "markdown",
   "metadata": {},
   "source": [
    "Compile the Stan code"
   ]
  },
  {
   "cell_type": "code",
   "execution_count": 8,
   "metadata": {},
   "outputs": [],
   "source": [
    "mod <- stan_model('hierarchical_regression.stan')  #pre-compile"
   ]
  },
  {
   "cell_type": "markdown",
   "metadata": {},
   "source": [
    "Package the data for Stan"
   ]
  },
  {
   "cell_type": "code",
   "execution_count": 9,
   "metadata": {},
   "outputs": [],
   "source": [
    "data <- list(P=P,p=p,N=N,pi=pi,n=n,y=y,x=x)"
   ]
  },
  {
   "cell_type": "markdown",
   "metadata": {},
   "source": [
    "Run MCMC"
   ]
  },
  {
   "cell_type": "code",
   "execution_count": 10,
   "metadata": {},
   "outputs": [],
   "source": [
    "mcmc <- sampling(mod, data=data, iter=2000, warmup=1000, open_progress=TRUE)"
   ]
  },
  {
   "cell_type": "markdown",
   "metadata": {},
   "source": [
    "Extract the samples"
   ]
  },
  {
   "cell_type": "code",
   "execution_count": 11,
   "metadata": {},
   "outputs": [],
   "source": [
    "post <- extract(mcmc)"
   ]
  },
  {
   "cell_type": "markdown",
   "metadata": {},
   "source": [
    "Take a look at some names and dimensions in the list"
   ]
  },
  {
   "cell_type": "code",
   "execution_count": null,
   "metadata": {},
   "outputs": [],
   "source": [
    "names(post)\n",
    "dim(post$beta1_u)\n",
    "dim(post$beta1_g)\n",
    "dim(post$beta0_i)"
   ]
  },
  {
   "cell_type": "markdown",
   "metadata": {},
   "source": [
    "Make some plots of the fitted distributions"
   ]
  },
  {
   "cell_type": "code",
   "execution_count": null,
   "metadata": {},
   "outputs": [],
   "source": [
    "options(repr.plot.width=8, repr.plot.height=5)\n",
    "par(mfrow=c(3,4),mar=c(2,2,2,2))\n",
    "for(i in 1:(P)){\n",
    "    hist(post$beta1_g[,i],main='',xlim=c(-6,5),freq=FALSE,ylim=c(0,3)); mtext(paste('Group',i),cex=0.6);\n",
    "    abline(v=beta1_g[i],lwd=1,lty=2)\n",
    "}"
   ]
  },
  {
   "cell_type": "code",
   "execution_count": null,
   "metadata": {},
   "outputs": [],
   "source": [
    "options(repr.plot.width=8, repr.plot.height=5)\n",
    "par(mfrow=c(5,5),mar=c(1,1,1,1),oma=c(1,1,1,1))\n",
    "for(i in 1:25){\n",
    "    hist(post$beta1_i[,i],main='',breaks=seq(-5,5,length.out=300),xlim=c(-5,3),freq=FALSE,ylim=c(0,8))\n",
    "    abline(v=beta1_i[i],lwd=0.1,lty=2)\n",
    "}"
   ]
  }
 ],
 "metadata": {
  "kernelspec": {
   "display_name": "R",
   "language": "R",
   "name": "ir"
  },
  "language_info": {
   "codemirror_mode": "r",
   "file_extension": ".r",
   "mimetype": "text/x-r-source",
   "name": "R",
   "pygments_lexer": "r",
   "version": "3.6.1"
  }
 },
 "nbformat": 4,
 "nbformat_minor": 2
}
